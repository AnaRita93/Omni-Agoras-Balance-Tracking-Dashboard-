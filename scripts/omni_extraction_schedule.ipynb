{
 "cells": [
  {
   "cell_type": "markdown",
   "id": "57ae2ab3",
   "metadata": {},
   "source": [
    "# Omni Agoras Balance Tracking - Data Collection"
   ]
  },
  {
   "cell_type": "code",
   "execution_count": 1,
   "id": "dbf60035",
   "metadata": {},
   "outputs": [],
   "source": [
    "#pip install schedule"
   ]
  },
  {
   "cell_type": "code",
   "execution_count": 9,
   "id": "64e50e47",
   "metadata": {},
   "outputs": [
    {
     "ename": "KeyboardInterrupt",
     "evalue": "",
     "output_type": "error",
     "traceback": [
      "\u001b[0;31m---------------------------------------------------------------------------\u001b[0m",
      "\u001b[0;31mKeyboardInterrupt\u001b[0m                         Traceback (most recent call last)",
      "\u001b[0;32m/tmp/ipykernel_63198/3430054708.py\u001b[0m in \u001b[0;36m<module>\u001b[0;34m\u001b[0m\n\u001b[1;32m     66\u001b[0m \u001b[0;34m\u001b[0m\u001b[0m\n\u001b[1;32m     67\u001b[0m \u001b[0;32mif\u001b[0m \u001b[0m__name__\u001b[0m \u001b[0;34m==\u001b[0m \u001b[0;34m\"__main__\"\u001b[0m\u001b[0;34m:\u001b[0m\u001b[0;34m\u001b[0m\u001b[0;34m\u001b[0m\u001b[0m\n\u001b[0;32m---> 68\u001b[0;31m     \u001b[0mmain\u001b[0m\u001b[0;34m(\u001b[0m\u001b[0;34m)\u001b[0m\u001b[0;34m\u001b[0m\u001b[0;34m\u001b[0m\u001b[0m\n\u001b[0m",
      "\u001b[0;32m/tmp/ipykernel_63198/3430054708.py\u001b[0m in \u001b[0;36mmain\u001b[0;34m()\u001b[0m\n\u001b[1;32m     60\u001b[0m     \u001b[0;32mwhile\u001b[0m \u001b[0;32mTrue\u001b[0m\u001b[0;34m:\u001b[0m\u001b[0;34m\u001b[0m\u001b[0;34m\u001b[0m\u001b[0m\n\u001b[1;32m     61\u001b[0m         \u001b[0mschedule\u001b[0m\u001b[0;34m.\u001b[0m\u001b[0mrun_pending\u001b[0m\u001b[0;34m(\u001b[0m\u001b[0;34m)\u001b[0m\u001b[0;34m\u001b[0m\u001b[0;34m\u001b[0m\u001b[0m\n\u001b[0;32m---> 62\u001b[0;31m         \u001b[0mtime\u001b[0m\u001b[0;34m.\u001b[0m\u001b[0msleep\u001b[0m\u001b[0;34m(\u001b[0m\u001b[0;36m1\u001b[0m\u001b[0;34m)\u001b[0m\u001b[0;34m\u001b[0m\u001b[0;34m\u001b[0m\u001b[0m\n\u001b[0m\u001b[1;32m     63\u001b[0m \u001b[0;34m\u001b[0m\u001b[0m\n\u001b[1;32m     64\u001b[0m     \u001b[0;31m#df = fetch_data()\u001b[0m\u001b[0;34m\u001b[0m\u001b[0;34m\u001b[0m\u001b[0;34m\u001b[0m\u001b[0m\n",
      "\u001b[0;31mKeyboardInterrupt\u001b[0m: "
     ]
    }
   ],
   "source": [
    "import requests\n",
    "import pandas as pd\n",
    "from datetime import datetime\n",
    "import hashlib\n",
    "import schedule\n",
    "import time\n",
    "import logging\n",
    "\n",
    "# Setup logging\n",
    "logging.basicConfig(filename='extraction.log', level=logging.INFO,\n",
    "                    format='%(asctime)s - %(levelname)s - %(message)s')\n",
    "\n",
    "def fetch_data():\n",
    "    url = \"https://api.omniexplorer.info/ask.aspx?api=getpropertybalances&prop=58\"\n",
    "    response = requests.get(url)\n",
    "    data = response.json()\n",
    "\n",
    "    data_list = []\n",
    "    for record in data:\n",
    "        address = record.get('address', '')\n",
    "        balance = record.get('balance', '')\n",
    "        reserved = record.get('reserved', '')\n",
    "\n",
    "        raw_id = address + balance + reserved + datetime.now().isoformat()\n",
    "        id_ = hashlib.md5(raw_id.encode()).hexdigest()\n",
    "\n",
    "        timestamp = datetime.now().strftime(\"%Y-%m-%d %H:%M\")\n",
    "\n",
    "        data_list.append([id_, address, balance, reserved, timestamp])\n",
    "    \n",
    "    df = pd.DataFrame(data_list, columns=[\"id\", \"address\", \"balance\", \"reserved\", \"timestamp\"])\n",
    "     \n",
    "        # Add some logging\n",
    "    logging.info('Data fetched successfully')\n",
    "    \n",
    "    return df\n",
    "\n",
    "def job():\n",
    "    try:\n",
    "        df = fetch_data()\n",
    "        # Check if the file exists\n",
    "        try:\n",
    "            df_existing = pd.read_csv(\"/home/rita/Documents/Omni Agoras Balance Tracking/data/omni_extracted.csv\")\n",
    "            df = pd.concat([df_existing, df])\n",
    "        except FileNotFoundError:\n",
    "            pass\n",
    "        df.to_csv(\"/home/rita/Documents/Omni Agoras Balance Tracking/data/omni_extracted.csv\", index=False)\n",
    "\n",
    "        logging.info('Data saved to output.csv successfully')\n",
    "\n",
    "    except Exception as e:\n",
    "        logging.error('Failed to fetch and save data: {}'.format(e))\n",
    "\n",
    "def main():\n",
    "     # Run the job right away\n",
    "    job()\n",
    "    # Then schedule it to run every 12 hours\n",
    "    schedule.every(12).hours.do(job)\n",
    "\n",
    "    while True:\n",
    "        schedule.run_pending()\n",
    "        time.sleep(1)\n",
    "    \n",
    "    #df = fetch_data()\n",
    "    #df.to_csv(\"Documents/Omni Agoras Balance Tracking/omni_extracted.csv\", index=False)\n",
    "\n",
    "if __name__ == \"__main__\":\n",
    "    main()"
   ]
  },
  {
   "cell_type": "code",
   "execution_count": null,
   "id": "3a5d4c22",
   "metadata": {},
   "outputs": [],
   "source": []
  }
 ],
 "metadata": {
  "kernelspec": {
   "display_name": "Python 3 (ipykernel)",
   "language": "python",
   "name": "python3"
  },
  "language_info": {
   "codemirror_mode": {
    "name": "ipython",
    "version": 3
   },
   "file_extension": ".py",
   "mimetype": "text/x-python",
   "name": "python",
   "nbconvert_exporter": "python",
   "pygments_lexer": "ipython3",
   "version": "3.8.10"
  }
 },
 "nbformat": 4,
 "nbformat_minor": 5
}
