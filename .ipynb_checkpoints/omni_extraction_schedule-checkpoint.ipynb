{
 "cells": [
  {
   "cell_type": "markdown",
   "id": "57ae2ab3",
   "metadata": {},
   "source": [
    "# Omni Agoras Balance Tracking - Data Collection"
   ]
  },
  {
   "cell_type": "code",
   "execution_count": 1,
   "id": "dbf60035",
   "metadata": {},
   "outputs": [
    {
     "name": "stdout",
     "output_type": "stream",
     "text": [
      "Requirement already satisfied: pandas in ./anaconda3/lib/python3.7/site-packages (1.3.4)\n",
      "Requirement already satisfied: requests in ./anaconda3/lib/python3.7/site-packages (2.26.0)\n",
      "Collecting schedule\n",
      "  Downloading schedule-1.2.0-py2.py3-none-any.whl (11 kB)\n",
      "Requirement already satisfied: python-dateutil>=2.7.3 in ./anaconda3/lib/python3.7/site-packages (from pandas) (2.8.2)\n",
      "Requirement already satisfied: pytz>=2017.3 in ./anaconda3/lib/python3.7/site-packages (from pandas) (2021.3)\n",
      "Requirement already satisfied: numpy>=1.17.3 in ./anaconda3/lib/python3.7/site-packages (from pandas) (1.20.3)\n",
      "Requirement already satisfied: urllib3<1.27,>=1.21.1 in ./anaconda3/lib/python3.7/site-packages (from requests) (1.24.3)\n",
      "Requirement already satisfied: certifi>=2017.4.17 in ./anaconda3/lib/python3.7/site-packages (from requests) (2022.12.7)\n",
      "Requirement already satisfied: charset-normalizer~=2.0.0 in ./anaconda3/lib/python3.7/site-packages (from requests) (2.0.4)\n",
      "Requirement already satisfied: idna<4,>=2.5 in ./anaconda3/lib/python3.7/site-packages (from requests) (2.8)\n",
      "Requirement already satisfied: six>=1.5 in ./anaconda3/lib/python3.7/site-packages (from python-dateutil>=2.7.3->pandas) (1.12.0)\n",
      "Installing collected packages: schedule\n",
      "Successfully installed schedule-1.2.0\n",
      "Note: you may need to restart the kernel to use updated packages.\n"
     ]
    }
   ],
   "source": [
    "pip install pandas requests schedule"
   ]
  },
  {
   "cell_type": "code",
   "execution_count": 4,
   "id": "64e50e47",
   "metadata": {},
   "outputs": [],
   "source": [
    "import requests\n",
    "import pandas as pd\n",
    "import schedule\n",
    "import time\n",
    "from datetime import datetime\n",
    "from hashlib import md5\n",
    "\n",
    "# Defining the structure of the dataframe\n",
    "data = {'id': [], 'address': [], 'balance': [], 'reserve': [], 'timestamp': []}\n",
    "df = pd.DataFrame(data)\n",
    "\n",
    "def job():\n",
    "    global df\n",
    "\n",
    "    url = \"https://api.omniexplorer.info/ask.aspx?api=getpropertybalances&prop=58\"\n",
    "\n",
    "    response = requests.get(url)\n",
    "\n",
    "    data = response.json()\n",
    "\n",
    "    for item in data['balanceData']:\n",
    "        address = item['address']\n",
    "        balance = item['balance']\n",
    "        reserve = item['reserve']\n",
    "\n",
    "        # generating id by using a hash function\n",
    "        unique_string = address + balance + reserve + str(datetime.now())\n",
    "        id = md5(unique_string.encode()).hexdigest()\n",
    "\n",
    "        df = df.append({'id': id,\n",
    "                        'address': address,\n",
    "                        'balance': balance,\n",
    "                        'reserve': reserve,\n",
    "                        'timestamp': datetime.now()}, ignore_index=True)\n",
    "\n",
    "    df.to_csv('/home/username/Documents/Omni Agoras Balance Tracking/omni_agoras_data.csv', index=False)  # saving the data to a csv file\n",
    "\n",
    "# Scheduling the job every 12 hours\n",
    "#schedule.every(12).hours.do(job)\n",
    "\n",
    "#while True:\n",
    " #   schedule.run_pending()\n",
    "  #  time.sleep(1)"
   ]
  },
  {
   "cell_type": "code",
   "execution_count": null,
   "id": "3a5d4c22",
   "metadata": {},
   "outputs": [],
   "source": []
  }
 ],
 "metadata": {
  "kernelspec": {
   "display_name": "Python 3 (ipykernel)",
   "language": "python",
   "name": "python3"
  },
  "language_info": {
   "codemirror_mode": {
    "name": "ipython",
    "version": 3
   },
   "file_extension": ".py",
   "mimetype": "text/x-python",
   "name": "python",
   "nbconvert_exporter": "python",
   "pygments_lexer": "ipython3",
   "version": "3.7.11"
  }
 },
 "nbformat": 4,
 "nbformat_minor": 5
}
